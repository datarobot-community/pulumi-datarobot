{
 "cells": [
  {
   "cell_type": "code",
   "execution_count": null,
   "id": "1add32880deec8a3",
   "metadata": {},
   "outputs": [],
   "source": [
    "from os import chdir\n",
    "from sys import path\n",
    "\n",
    "from kedro.config import OmegaConfigLoader\n",
    "from kedro.io import DataCatalog\n",
    "\n",
    "chdir(\"..\")\n",
    "path.append(\"src/\")\n",
    "conf_loader = OmegaConfigLoader(conf_source=\".\")\n",
    "catalog = DataCatalog.from_config(conf_loader[\"catalog\"])"
   ]
  },
  {
   "cell_type": "code",
   "execution_count": null,
   "id": "a65cc3103cdee8af",
   "metadata": {},
   "outputs": [],
   "source": [
    "import os\n",
    "\n",
    "import yaml\n",
    "\n",
    "# load RAG assets including vector db into a temp dir\n",
    "temp_path = catalog.load('rag_deployment_assets')\n",
    "# load custom.py into this notebook\n",
    "exec((temp_path / \"custom.py\").read_text())\n",
    "# load RAG parameters\n",
    "params = {param['fieldName']: param.get('defaultValue', None) for param in yaml.safe_load(catalog.load('prep_user_rag_custom_model.model_metadata'))['runtimeParameterDefinitions']}\n",
    "# add your OPENAI API KEY\n",
    "params['openai_api_key'] = os.environ['OPENAI_API_KEY']\n",
    "# load the RAG chain\n",
    "chain = get_chain(str(temp_path.resolve()), **params)"
   ]
  },
  {
   "cell_type": "code",
   "execution_count": null,
   "id": "ea1ae53e9e6d01f2",
   "metadata": {},
   "outputs": [],
   "source": [
    "# insert your question of interest\n",
    "chain_output = chain.invoke(\n",
    "    {\n",
    "        \"question\": 'hello!',\n",
    "        \"chat_history\": [],\n",
    "    }\n",
    ")"
   ]
  },
  {
   "cell_type": "code",
   "execution_count": null,
   "id": "400a981a2c253270",
   "metadata": {},
   "outputs": [],
   "source": [
    "import pprint\n",
    "\n",
    "pprint.pprint(chain_output)"
   ]
  },
  {
   "cell_type": "code",
   "execution_count": null,
   "id": "5a5cb39c42b240fd",
   "metadata": {},
   "outputs": [],
   "source": [
    "from shutil import rmtree\n",
    "\n",
    "# clean up the temp dir\n",
    "rmtree(temp_path)"
   ]
  }
 ],
 "metadata": {
  "kernelspec": {
   "display_name": "Python 3 (ipykernel)",
   "language": "python",
   "name": "python3"
  },
  "language_info": {
   "codemirror_mode": {
    "name": "ipython",
    "version": 3
   },
   "file_extension": ".py",
   "mimetype": "text/x-python",
   "name": "python",
   "nbconvert_exporter": "python",
   "pygments_lexer": "ipython3",
   "version": "3.7.12"
  }
 },
 "nbformat": 4,
 "nbformat_minor": 5
}