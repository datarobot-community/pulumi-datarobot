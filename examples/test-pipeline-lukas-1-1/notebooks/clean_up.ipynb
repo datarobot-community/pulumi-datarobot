{
 "cells": [
  {
   "cell_type": "code",
   "execution_count": 1,
   "id": "1add32880deec8a3",
   "metadata": {},
   "outputs": [],
   "source": [
    "import pathlib\n",
    "\n",
    "from kedro.framework.session import KedroSession\n",
    "from kedro.framework.startup import bootstrap_project\n",
    "\n",
    "project_path = pathlib.Path('..').resolve()\n",
    "metadata = bootstrap_project(project_path)\n",
    "session = KedroSession.create(project_path)\n",
    "context = session.load_context()\n",
    "catalog = context.catalog"
   ]
  },
  {
   "cell_type": "code",
   "execution_count": 2,
   "id": "d5f49428",
   "metadata": {},
   "outputs": [
    {
     "data": {
      "text/html": [
       "<pre style=\"white-space:pre;overflow-x:auto;line-height:normal;font-family:Menlo,'DejaVu Sans Mono',consolas,'Courier New',monospace\"></pre>\n"
      ],
      "text/plain": []
     },
     "metadata": {},
     "output_type": "display_data"
    },
    {
     "data": {
      "text/plain": [
       "\u001b[1m<\u001b[0m\u001b[1;95mdatarobot.rest.RESTClientObject\u001b[0m\u001b[39m object at \u001b[0m\u001b[1;36m0x7fe67bfd7910\u001b[0m\u001b[1m>\u001b[0m"
      ]
     },
     "execution_count": 2,
     "metadata": {},
     "output_type": "execute_result"
    }
   ],
   "source": [
    "import posixpath\n",
    "\n",
    "import datarobot as dr\n",
    "\n",
    "api_token = context.config_loader[\"credentials\"]['datarobot']['api_token']\n",
    "endpoint = context.config_loader[\"credentials\"]['datarobot']['endpoint']\n",
    "\n",
    "dr.Client(token = api_token, endpoint = endpoint)"
   ]
  },
  {
   "cell_type": "code",
   "execution_count": 3,
   "id": "a65cc3103cdee8af",
   "metadata": {},
   "outputs": [
    {
     "data": {
      "text/html": [
       "<pre style=\"white-space:pre;overflow-x:auto;line-height:normal;font-family:Menlo,'DejaVu Sans Mono',consolas,'Courier New',monospace\"><span style=\"color: #7fbfbf; text-decoration-color: #7fbfbf\">[03/25/24 20:51:52] </span><span style=\"color: #000080; text-decoration-color: #000080\">INFO    </span> Loading data from <span style=\"color: #ff8700; text-decoration-color: #ff8700\">deploy_rag_and_streamlit_app.application_id</span>              <a href=\"file:///home/joao/.virtualenvs/kedro/lib/python3.10/site-packages/kedro/io/data_catalog.py\" target=\"_blank\"><span style=\"color: #7f7f7f; text-decoration-color: #7f7f7f\">data_catalog.py</span></a><span style=\"color: #7f7f7f; text-decoration-color: #7f7f7f\">:</span><a href=\"file:///home/joao/.virtualenvs/kedro/lib/python3.10/site-packages/kedro/io/data_catalog.py#483\" target=\"_blank\"><span style=\"color: #7f7f7f; text-decoration-color: #7f7f7f\">483</span></a>\n",
       "<span style=\"color: #7fbfbf; text-decoration-color: #7fbfbf\">                    </span>         <span style=\"font-weight: bold\">(</span>TextDataset<span style=\"font-weight: bold\">)</span><span style=\"color: #808000; text-decoration-color: #808000\">...</span>                                                   <span style=\"color: #7f7f7f; text-decoration-color: #7f7f7f\">                   </span>\n",
       "</pre>\n"
      ],
      "text/plain": [
       "\u001b[2;36m[03/25/24 20:51:52]\u001b[0m\u001b[2;36m \u001b[0m\u001b[34mINFO    \u001b[0m Loading data from \u001b[38;5;208mdeploy_rag_and_streamlit_app.application_id\u001b[0m              \u001b]8;id=882758;file:///home/joao/.virtualenvs/kedro/lib/python3.10/site-packages/kedro/io/data_catalog.py\u001b\\\u001b[2mdata_catalog.py\u001b[0m\u001b]8;;\u001b\\\u001b[2m:\u001b[0m\u001b]8;id=198685;file:///home/joao/.virtualenvs/kedro/lib/python3.10/site-packages/kedro/io/data_catalog.py#483\u001b\\\u001b[2m483\u001b[0m\u001b]8;;\u001b\\\n",
       "\u001b[2;36m                    \u001b[0m         \u001b[1m(\u001b[0mTextDataset\u001b[1m)\u001b[0m\u001b[33m...\u001b[0m                                                   \u001b[2m                   \u001b[0m\n"
      ]
     },
     "metadata": {},
     "output_type": "display_data"
    },
    {
     "name": "stdout",
     "output_type": "stream",
     "text": [
      "deleted custom app: 6601e336978494179f4876ab\n"
     ]
    }
   ],
   "source": [
    "#custom app id\n",
    "custom_app_id = catalog.load('deploy_rag_and_streamlit_app.application_id')\n",
    "\n",
    "# remove custom app\n",
    "url = posixpath.join(endpoint, f\"customApplications/{custom_app_id}/\")\n",
    "try:\n",
    "    dr.Client(endpoint=endpoint, token=api_token).delete(url)\n",
    "    print(f\"deleted custom app: {custom_app_id}\")\n",
    "except Exception as error:\n",
    "    print(error)"
   ]
  },
  {
   "cell_type": "code",
   "execution_count": 4,
   "id": "8b32665c",
   "metadata": {},
   "outputs": [
    {
     "data": {
      "text/html": [
       "<pre style=\"white-space:pre;overflow-x:auto;line-height:normal;font-family:Menlo,'DejaVu Sans Mono',consolas,'Courier New',monospace\"><span style=\"color: #7fbfbf; text-decoration-color: #7fbfbf\">[03/25/24 20:51:53] </span><span style=\"color: #000080; text-decoration-color: #000080\">INFO    </span> Loading data from <span style=\"color: #ff8700; text-decoration-color: #ff8700\">deploy_rag_and_streamlit_app.execution_environment_id</span>    <a href=\"file:///home/joao/.virtualenvs/kedro/lib/python3.10/site-packages/kedro/io/data_catalog.py\" target=\"_blank\"><span style=\"color: #7f7f7f; text-decoration-color: #7f7f7f\">data_catalog.py</span></a><span style=\"color: #7f7f7f; text-decoration-color: #7f7f7f\">:</span><a href=\"file:///home/joao/.virtualenvs/kedro/lib/python3.10/site-packages/kedro/io/data_catalog.py#483\" target=\"_blank\"><span style=\"color: #7f7f7f; text-decoration-color: #7f7f7f\">483</span></a>\n",
       "<span style=\"color: #7fbfbf; text-decoration-color: #7fbfbf\">                    </span>         <span style=\"font-weight: bold\">(</span>TextDataset<span style=\"font-weight: bold\">)</span><span style=\"color: #808000; text-decoration-color: #808000\">...</span>                                                   <span style=\"color: #7f7f7f; text-decoration-color: #7f7f7f\">                   </span>\n",
       "</pre>\n"
      ],
      "text/plain": [
       "\u001b[2;36m[03/25/24 20:51:53]\u001b[0m\u001b[2;36m \u001b[0m\u001b[34mINFO    \u001b[0m Loading data from \u001b[38;5;208mdeploy_rag_and_streamlit_app.execution_environment_id\u001b[0m    \u001b]8;id=524689;file:///home/joao/.virtualenvs/kedro/lib/python3.10/site-packages/kedro/io/data_catalog.py\u001b\\\u001b[2mdata_catalog.py\u001b[0m\u001b]8;;\u001b\\\u001b[2m:\u001b[0m\u001b]8;id=907114;file:///home/joao/.virtualenvs/kedro/lib/python3.10/site-packages/kedro/io/data_catalog.py#483\u001b\\\u001b[2m483\u001b[0m\u001b]8;;\u001b\\\n",
       "\u001b[2;36m                    \u001b[0m         \u001b[1m(\u001b[0mTextDataset\u001b[1m)\u001b[0m\u001b[33m...\u001b[0m                                                   \u001b[2m                   \u001b[0m\n"
      ]
     },
     "metadata": {},
     "output_type": "display_data"
    },
    {
     "name": "stdout",
     "output_type": "stream",
     "text": [
      "deleted execution environment: 6601d6e4ecc46eac224875e2\n"
     ]
    }
   ],
   "source": [
    "#execution environment id\n",
    "execution_environment_id = catalog.load('deploy_rag_and_streamlit_app.execution_environment_id')\n",
    "\n",
    "#remove execution environment\n",
    "try:\n",
    "    execution_environment = dr.ExecutionEnvironment.get(execution_environment_id=execution_environment_id)\n",
    "    execution_environment.delete()\n",
    "    print(f\"deleted execution environment: {execution_environment_id}\")\n",
    "except Exception as error:\n",
    "    print(error)"
   ]
  },
  {
   "cell_type": "code",
   "execution_count": 5,
   "id": "5a0f8214",
   "metadata": {},
   "outputs": [
    {
     "data": {
      "text/html": [
       "<pre style=\"white-space:pre;overflow-x:auto;line-height:normal;font-family:Menlo,'DejaVu Sans Mono',consolas,'Courier New',monospace\"><span style=\"color: #7fbfbf; text-decoration-color: #7fbfbf\">[03/25/24 20:51:55] </span><span style=\"color: #000080; text-decoration-color: #000080\">INFO    </span> Loading data from <span style=\"color: #ff8700; text-decoration-color: #ff8700\">rag_deployment_id</span> <span style=\"font-weight: bold\">(</span>TextDataset<span style=\"font-weight: bold\">)</span><span style=\"color: #808000; text-decoration-color: #808000\">...</span>               <a href=\"file:///home/joao/.virtualenvs/kedro/lib/python3.10/site-packages/kedro/io/data_catalog.py\" target=\"_blank\"><span style=\"color: #7f7f7f; text-decoration-color: #7f7f7f\">data_catalog.py</span></a><span style=\"color: #7f7f7f; text-decoration-color: #7f7f7f\">:</span><a href=\"file:///home/joao/.virtualenvs/kedro/lib/python3.10/site-packages/kedro/io/data_catalog.py#483\" target=\"_blank\"><span style=\"color: #7f7f7f; text-decoration-color: #7f7f7f\">483</span></a>\n",
       "</pre>\n"
      ],
      "text/plain": [
       "\u001b[2;36m[03/25/24 20:51:55]\u001b[0m\u001b[2;36m \u001b[0m\u001b[34mINFO    \u001b[0m Loading data from \u001b[38;5;208mrag_deployment_id\u001b[0m \u001b[1m(\u001b[0mTextDataset\u001b[1m)\u001b[0m\u001b[33m...\u001b[0m               \u001b]8;id=377101;file:///home/joao/.virtualenvs/kedro/lib/python3.10/site-packages/kedro/io/data_catalog.py\u001b\\\u001b[2mdata_catalog.py\u001b[0m\u001b]8;;\u001b\\\u001b[2m:\u001b[0m\u001b]8;id=811737;file:///home/joao/.virtualenvs/kedro/lib/python3.10/site-packages/kedro/io/data_catalog.py#483\u001b\\\u001b[2m483\u001b[0m\u001b]8;;\u001b\\\n"
      ]
     },
     "metadata": {},
     "output_type": "display_data"
    },
    {
     "data": {
      "text/html": [
       "<pre style=\"white-space:pre;overflow-x:auto;line-height:normal;font-family:Menlo,'DejaVu Sans Mono',consolas,'Courier New',monospace\"><span style=\"color: #7fbfbf; text-decoration-color: #7fbfbf\">                    </span><span style=\"color: #000080; text-decoration-color: #000080\">INFO    </span> Loading data from <span style=\"color: #ff8700; text-decoration-color: #ff8700\">guard_deployment_id</span> <span style=\"font-weight: bold\">(</span>TextDataset<span style=\"font-weight: bold\">)</span><span style=\"color: #808000; text-decoration-color: #808000\">...</span>             <a href=\"file:///home/joao/.virtualenvs/kedro/lib/python3.10/site-packages/kedro/io/data_catalog.py\" target=\"_blank\"><span style=\"color: #7f7f7f; text-decoration-color: #7f7f7f\">data_catalog.py</span></a><span style=\"color: #7f7f7f; text-decoration-color: #7f7f7f\">:</span><a href=\"file:///home/joao/.virtualenvs/kedro/lib/python3.10/site-packages/kedro/io/data_catalog.py#483\" target=\"_blank\"><span style=\"color: #7f7f7f; text-decoration-color: #7f7f7f\">483</span></a>\n",
       "</pre>\n"
      ],
      "text/plain": [
       "\u001b[2;36m                   \u001b[0m\u001b[2;36m \u001b[0m\u001b[34mINFO    \u001b[0m Loading data from \u001b[38;5;208mguard_deployment_id\u001b[0m \u001b[1m(\u001b[0mTextDataset\u001b[1m)\u001b[0m\u001b[33m...\u001b[0m             \u001b]8;id=111371;file:///home/joao/.virtualenvs/kedro/lib/python3.10/site-packages/kedro/io/data_catalog.py\u001b\\\u001b[2mdata_catalog.py\u001b[0m\u001b]8;;\u001b\\\u001b[2m:\u001b[0m\u001b]8;id=942594;file:///home/joao/.virtualenvs/kedro/lib/python3.10/site-packages/kedro/io/data_catalog.py#483\u001b\\\u001b[2m483\u001b[0m\u001b]8;;\u001b\\\n"
      ]
     },
     "metadata": {},
     "output_type": "display_data"
    },
    {
     "data": {
      "text/html": [
       "<pre style=\"white-space:pre;overflow-x:auto;line-height:normal;font-family:Menlo,'DejaVu Sans Mono',consolas,'Courier New',monospace\"><span style=\"color: #7fbfbf; text-decoration-color: #7fbfbf\">                    </span><span style=\"color: #000080; text-decoration-color: #000080\">INFO    </span> Loading data from <span style=\"color: #ff8700; text-decoration-color: #ff8700\">grading_deployment_id</span> <span style=\"font-weight: bold\">(</span>TextDataset<span style=\"font-weight: bold\">)</span><span style=\"color: #808000; text-decoration-color: #808000\">...</span>           <a href=\"file:///home/joao/.virtualenvs/kedro/lib/python3.10/site-packages/kedro/io/data_catalog.py\" target=\"_blank\"><span style=\"color: #7f7f7f; text-decoration-color: #7f7f7f\">data_catalog.py</span></a><span style=\"color: #7f7f7f; text-decoration-color: #7f7f7f\">:</span><a href=\"file:///home/joao/.virtualenvs/kedro/lib/python3.10/site-packages/kedro/io/data_catalog.py#483\" target=\"_blank\"><span style=\"color: #7f7f7f; text-decoration-color: #7f7f7f\">483</span></a>\n",
       "</pre>\n"
      ],
      "text/plain": [
       "\u001b[2;36m                   \u001b[0m\u001b[2;36m \u001b[0m\u001b[34mINFO    \u001b[0m Loading data from \u001b[38;5;208mgrading_deployment_id\u001b[0m \u001b[1m(\u001b[0mTextDataset\u001b[1m)\u001b[0m\u001b[33m...\u001b[0m           \u001b]8;id=881422;file:///home/joao/.virtualenvs/kedro/lib/python3.10/site-packages/kedro/io/data_catalog.py\u001b\\\u001b[2mdata_catalog.py\u001b[0m\u001b]8;;\u001b\\\u001b[2m:\u001b[0m\u001b]8;id=603354;file:///home/joao/.virtualenvs/kedro/lib/python3.10/site-packages/kedro/io/data_catalog.py#483\u001b\\\u001b[2m483\u001b[0m\u001b]8;;\u001b\\\n"
      ]
     },
     "metadata": {},
     "output_type": "display_data"
    },
    {
     "data": {
      "text/html": [
       "<pre style=\"white-space:pre;overflow-x:auto;line-height:normal;font-family:Menlo,'DejaVu Sans Mono',consolas,'Courier New',monospace\"><span style=\"color: #7fbfbf; text-decoration-color: #7fbfbf\">                    </span><span style=\"color: #000080; text-decoration-color: #000080\">INFO    </span> Loading data from <span style=\"color: #ff8700; text-decoration-color: #ff8700\">global_model_deployment_ids</span> <span style=\"font-weight: bold\">(</span>YAMLDataset<span style=\"font-weight: bold\">)</span><span style=\"color: #808000; text-decoration-color: #808000\">...</span>     <a href=\"file:///home/joao/.virtualenvs/kedro/lib/python3.10/site-packages/kedro/io/data_catalog.py\" target=\"_blank\"><span style=\"color: #7f7f7f; text-decoration-color: #7f7f7f\">data_catalog.py</span></a><span style=\"color: #7f7f7f; text-decoration-color: #7f7f7f\">:</span><a href=\"file:///home/joao/.virtualenvs/kedro/lib/python3.10/site-packages/kedro/io/data_catalog.py#483\" target=\"_blank\"><span style=\"color: #7f7f7f; text-decoration-color: #7f7f7f\">483</span></a>\n",
       "</pre>\n"
      ],
      "text/plain": [
       "\u001b[2;36m                   \u001b[0m\u001b[2;36m \u001b[0m\u001b[34mINFO    \u001b[0m Loading data from \u001b[38;5;208mglobal_model_deployment_ids\u001b[0m \u001b[1m(\u001b[0mYAMLDataset\u001b[1m)\u001b[0m\u001b[33m...\u001b[0m     \u001b]8;id=182994;file:///home/joao/.virtualenvs/kedro/lib/python3.10/site-packages/kedro/io/data_catalog.py\u001b\\\u001b[2mdata_catalog.py\u001b[0m\u001b]8;;\u001b\\\u001b[2m:\u001b[0m\u001b]8;id=457204;file:///home/joao/.virtualenvs/kedro/lib/python3.10/site-packages/kedro/io/data_catalog.py#483\u001b\\\u001b[2m483\u001b[0m\u001b]8;;\u001b\\\n"
      ]
     },
     "metadata": {},
     "output_type": "display_data"
    },
    {
     "name": "stdout",
     "output_type": "stream",
     "text": [
      "deleted injection global model deployment with id: 6601d7b716e68cffafa9a5df\n",
      "deleted refusal global model deployment with id: 6601d779ddeb807f9b12668b\n",
      "deleted sentiment global model deployment with id: 6601d7307ad7d92520a999b4\n",
      "deleted toxicity global model deployment with id: 6601d6edb94256c7421266a4\n",
      "deleted deployment with id: 6601da8b2dae53f608a99a7e\n",
      "deleted deployment with id: 6601d9d960260a7c7c9dff60\n",
      "deleted deployment with id: 6601d81016e68cffafa9a7f7\n"
     ]
    }
   ],
   "source": [
    "#deployment ids\n",
    "rag_deployment_id = catalog.load('rag_deployment_id')\n",
    "guard_deployment_id = catalog.load('guard_deployment_id')\n",
    "grading_deployment_id = catalog.load('grading_deployment_id') # cannot find file, fixed\n",
    "\n",
    "global_model_deployment_ids = catalog.load('global_model_deployment_ids')\n",
    "\n",
    "#remove global model deployments\n",
    "for name in global_model_deployment_ids:\n",
    "    deployment_id = global_model_deployment_ids[name]\n",
    "    try:\n",
    "        deployment = dr.Deployment.get(deployment_id=deployment_id)\n",
    "        deployment.delete()\n",
    "        print(f\"deleted {name} global model deployment with id: {deployment_id}\")\n",
    "    except Exception as error:\n",
    "        print(error)\n",
    "\n",
    "#remove rag, grade, grading deployments\n",
    "for deployment_id in [rag_deployment_id, guard_deployment_id, grading_deployment_id]:\n",
    "    try:\n",
    "        deployment = dr.Deployment.get(deployment_id=deployment_id)\n",
    "        deployment.delete()\n",
    "        print(f\"deleted deployment with id: {deployment_id}\")\n",
    "    except Exception as error:\n",
    "        print(error)"
   ]
  },
  {
   "cell_type": "code",
   "execution_count": 6,
   "id": "329f75df",
   "metadata": {},
   "outputs": [
    {
     "data": {
      "text/html": [
       "<pre style=\"white-space:pre;overflow-x:auto;line-height:normal;font-family:Menlo,'DejaVu Sans Mono',consolas,'Courier New',monospace\"><span style=\"color: #7fbfbf; text-decoration-color: #7fbfbf\">[03/25/24 20:52:09] </span><span style=\"color: #000080; text-decoration-color: #000080\">INFO    </span> Loading data from <span style=\"color: #ff8700; text-decoration-color: #ff8700\">setup_custom_metrics.custom_metric_job_id</span>        <a href=\"file:///home/joao/.virtualenvs/kedro/lib/python3.10/site-packages/kedro/io/data_catalog.py\" target=\"_blank\"><span style=\"color: #7f7f7f; text-decoration-color: #7f7f7f\">data_catalog.py</span></a><span style=\"color: #7f7f7f; text-decoration-color: #7f7f7f\">:</span><a href=\"file:///home/joao/.virtualenvs/kedro/lib/python3.10/site-packages/kedro/io/data_catalog.py#483\" target=\"_blank\"><span style=\"color: #7f7f7f; text-decoration-color: #7f7f7f\">483</span></a>\n",
       "<span style=\"color: #7fbfbf; text-decoration-color: #7fbfbf\">                    </span>         <span style=\"font-weight: bold\">(</span>TextDataset<span style=\"font-weight: bold\">)</span><span style=\"color: #808000; text-decoration-color: #808000\">...</span>                                                   <span style=\"color: #7f7f7f; text-decoration-color: #7f7f7f\">                   </span>\n",
       "</pre>\n"
      ],
      "text/plain": [
       "\u001b[2;36m[03/25/24 20:52:09]\u001b[0m\u001b[2;36m \u001b[0m\u001b[34mINFO    \u001b[0m Loading data from \u001b[38;5;208msetup_custom_metrics.custom_metric_job_id\u001b[0m        \u001b]8;id=207700;file:///home/joao/.virtualenvs/kedro/lib/python3.10/site-packages/kedro/io/data_catalog.py\u001b\\\u001b[2mdata_catalog.py\u001b[0m\u001b]8;;\u001b\\\u001b[2m:\u001b[0m\u001b]8;id=253180;file:///home/joao/.virtualenvs/kedro/lib/python3.10/site-packages/kedro/io/data_catalog.py#483\u001b\\\u001b[2m483\u001b[0m\u001b]8;;\u001b\\\n",
       "\u001b[2;36m                    \u001b[0m         \u001b[1m(\u001b[0mTextDataset\u001b[1m)\u001b[0m\u001b[33m...\u001b[0m                                                   \u001b[2m                   \u001b[0m\n"
      ]
     },
     "metadata": {},
     "output_type": "display_data"
    },
    {
     "name": "stdout",
     "output_type": "stream",
     "text": [
      "deleted custom job: 6601e37427e2374b31a78128\n"
     ]
    }
   ],
   "source": [
    "#custom job id\n",
    "custom_metric_job_id = catalog.load('setup_custom_metrics.custom_metric_job_id')\n",
    "\n",
    "# remove custom job\n",
    "url = posixpath.join(endpoint, f\"customJobs/{custom_metric_job_id}/\")\n",
    "try:\n",
    "    dr.Client(endpoint=endpoint, token=api_token).delete(url)\n",
    "    print(f\"deleted custom job: {custom_metric_job_id}\")\n",
    "except Exception as error:\n",
    "    print(error)"
   ]
  },
  {
   "cell_type": "code",
   "execution_count": 7,
   "id": "95599ab0",
   "metadata": {},
   "outputs": [
    {
     "data": {
      "text/html": [
       "<pre style=\"white-space:pre;overflow-x:auto;line-height:normal;font-family:Menlo,'DejaVu Sans Mono',consolas,'Courier New',monospace\"><span style=\"color: #7fbfbf; text-decoration-color: #7fbfbf\">[03/25/24 20:52:11] </span><span style=\"color: #000080; text-decoration-color: #000080\">INFO    </span> Loading data from <span style=\"color: #ff8700; text-decoration-color: #ff8700\">deploy_rag.custom_model_registered_version_id</span>    <a href=\"file:///home/joao/.virtualenvs/kedro/lib/python3.10/site-packages/kedro/io/data_catalog.py\" target=\"_blank\"><span style=\"color: #7f7f7f; text-decoration-color: #7f7f7f\">data_catalog.py</span></a><span style=\"color: #7f7f7f; text-decoration-color: #7f7f7f\">:</span><a href=\"file:///home/joao/.virtualenvs/kedro/lib/python3.10/site-packages/kedro/io/data_catalog.py#483\" target=\"_blank\"><span style=\"color: #7f7f7f; text-decoration-color: #7f7f7f\">483</span></a>\n",
       "<span style=\"color: #7fbfbf; text-decoration-color: #7fbfbf\">                    </span>         <span style=\"font-weight: bold\">(</span>TextDataset<span style=\"font-weight: bold\">)</span><span style=\"color: #808000; text-decoration-color: #808000\">...</span>                                                   <span style=\"color: #7f7f7f; text-decoration-color: #7f7f7f\">                   </span>\n",
       "</pre>\n"
      ],
      "text/plain": [
       "\u001b[2;36m[03/25/24 20:52:11]\u001b[0m\u001b[2;36m \u001b[0m\u001b[34mINFO    \u001b[0m Loading data from \u001b[38;5;208mdeploy_rag.custom_model_registered_version_id\u001b[0m    \u001b]8;id=775482;file:///home/joao/.virtualenvs/kedro/lib/python3.10/site-packages/kedro/io/data_catalog.py\u001b\\\u001b[2mdata_catalog.py\u001b[0m\u001b]8;;\u001b\\\u001b[2m:\u001b[0m\u001b]8;id=705001;file:///home/joao/.virtualenvs/kedro/lib/python3.10/site-packages/kedro/io/data_catalog.py#483\u001b\\\u001b[2m483\u001b[0m\u001b]8;;\u001b\\\n",
       "\u001b[2;36m                    \u001b[0m         \u001b[1m(\u001b[0mTextDataset\u001b[1m)\u001b[0m\u001b[33m...\u001b[0m                                                   \u001b[2m                   \u001b[0m\n"
      ]
     },
     "metadata": {},
     "output_type": "display_data"
    },
    {
     "data": {
      "text/html": [
       "<pre style=\"white-space:pre;overflow-x:auto;line-height:normal;font-family:Menlo,'DejaVu Sans Mono',consolas,'Courier New',monospace\"><span style=\"color: #7fbfbf; text-decoration-color: #7fbfbf\">                    </span><span style=\"color: #000080; text-decoration-color: #000080\">INFO    </span> Loading data from                                                  <a href=\"file:///home/joao/.virtualenvs/kedro/lib/python3.10/site-packages/kedro/io/data_catalog.py\" target=\"_blank\"><span style=\"color: #7f7f7f; text-decoration-color: #7f7f7f\">data_catalog.py</span></a><span style=\"color: #7f7f7f; text-decoration-color: #7f7f7f\">:</span><a href=\"file:///home/joao/.virtualenvs/kedro/lib/python3.10/site-packages/kedro/io/data_catalog.py#483\" target=\"_blank\"><span style=\"color: #7f7f7f; text-decoration-color: #7f7f7f\">483</span></a>\n",
       "<span style=\"color: #7fbfbf; text-decoration-color: #7fbfbf\">                    </span>         <span style=\"color: #ff8700; text-decoration-color: #ff8700\">deploy_guardrail.custom_model_registered_version_id</span>                <span style=\"color: #7f7f7f; text-decoration-color: #7f7f7f\">                   </span>\n",
       "<span style=\"color: #7fbfbf; text-decoration-color: #7fbfbf\">                    </span>         <span style=\"font-weight: bold\">(</span>TextDataset<span style=\"font-weight: bold\">)</span><span style=\"color: #808000; text-decoration-color: #808000\">...</span>                                                   <span style=\"color: #7f7f7f; text-decoration-color: #7f7f7f\">                   </span>\n",
       "</pre>\n"
      ],
      "text/plain": [
       "\u001b[2;36m                   \u001b[0m\u001b[2;36m \u001b[0m\u001b[34mINFO    \u001b[0m Loading data from                                                  \u001b]8;id=222568;file:///home/joao/.virtualenvs/kedro/lib/python3.10/site-packages/kedro/io/data_catalog.py\u001b\\\u001b[2mdata_catalog.py\u001b[0m\u001b]8;;\u001b\\\u001b[2m:\u001b[0m\u001b]8;id=731280;file:///home/joao/.virtualenvs/kedro/lib/python3.10/site-packages/kedro/io/data_catalog.py#483\u001b\\\u001b[2m483\u001b[0m\u001b]8;;\u001b\\\n",
       "\u001b[2;36m                    \u001b[0m         \u001b[38;5;208mdeploy_guardrail.custom_model_registered_version_id\u001b[0m                \u001b[2m                   \u001b[0m\n",
       "\u001b[2;36m                    \u001b[0m         \u001b[1m(\u001b[0mTextDataset\u001b[1m)\u001b[0m\u001b[33m...\u001b[0m                                                   \u001b[2m                   \u001b[0m\n"
      ]
     },
     "metadata": {},
     "output_type": "display_data"
    },
    {
     "data": {
      "text/html": [
       "<pre style=\"white-space:pre;overflow-x:auto;line-height:normal;font-family:Menlo,'DejaVu Sans Mono',consolas,'Courier New',monospace\"><span style=\"color: #7fbfbf; text-decoration-color: #7fbfbf\">                    </span><span style=\"color: #000080; text-decoration-color: #000080\">INFO    </span> Loading data from <span style=\"color: #ff8700; text-decoration-color: #ff8700\">deploy_grader.custom_model_registered_version_id</span> <a href=\"file:///home/joao/.virtualenvs/kedro/lib/python3.10/site-packages/kedro/io/data_catalog.py\" target=\"_blank\"><span style=\"color: #7f7f7f; text-decoration-color: #7f7f7f\">data_catalog.py</span></a><span style=\"color: #7f7f7f; text-decoration-color: #7f7f7f\">:</span><a href=\"file:///home/joao/.virtualenvs/kedro/lib/python3.10/site-packages/kedro/io/data_catalog.py#483\" target=\"_blank\"><span style=\"color: #7f7f7f; text-decoration-color: #7f7f7f\">483</span></a>\n",
       "<span style=\"color: #7fbfbf; text-decoration-color: #7fbfbf\">                    </span>         <span style=\"font-weight: bold\">(</span>TextDataset<span style=\"font-weight: bold\">)</span><span style=\"color: #808000; text-decoration-color: #808000\">...</span>                                                   <span style=\"color: #7f7f7f; text-decoration-color: #7f7f7f\">                   </span>\n",
       "</pre>\n"
      ],
      "text/plain": [
       "\u001b[2;36m                   \u001b[0m\u001b[2;36m \u001b[0m\u001b[34mINFO    \u001b[0m Loading data from \u001b[38;5;208mdeploy_grader.custom_model_registered_version_id\u001b[0m \u001b]8;id=393885;file:///home/joao/.virtualenvs/kedro/lib/python3.10/site-packages/kedro/io/data_catalog.py\u001b\\\u001b[2mdata_catalog.py\u001b[0m\u001b]8;;\u001b\\\u001b[2m:\u001b[0m\u001b]8;id=984178;file:///home/joao/.virtualenvs/kedro/lib/python3.10/site-packages/kedro/io/data_catalog.py#483\u001b\\\u001b[2m483\u001b[0m\u001b]8;;\u001b\\\n",
       "\u001b[2;36m                    \u001b[0m         \u001b[1m(\u001b[0mTextDataset\u001b[1m)\u001b[0m\u001b[33m...\u001b[0m                                                   \u001b[2m                   \u001b[0m\n"
      ]
     },
     "metadata": {},
     "output_type": "display_data"
    },
    {
     "name": "stdout",
     "output_type": "stream",
     "text": [
      "deleted registered model kedro-docassist RAG with id: 6601da88a775ef8037081f6e\n",
      "deleted registered model kedro-docassist Guardrail with id: 6601d8a236ffbe1c922304f1\n",
      "deleted registered model kedro-docassist Grader with id: 6601d803140f3e1c6e081ec1\n"
     ]
    }
   ],
   "source": [
    "#registered models version ids\n",
    "deploy_rag_registered_version_id = catalog.load('deploy_rag.custom_model_registered_version_id')\n",
    "deploy_guardrail_registered_version_id = catalog.load('deploy_guardrail.custom_model_registered_version_id')\n",
    "deploy_grader_registered_version_id = catalog.load('deploy_grader.custom_model_registered_version_id')\n",
    "\n",
    "#registered model names\n",
    "rag_registered_model_name = context.config_loader[\"parameters\"]['deploy_rag']['registered_model_name']\n",
    "guardrail_registered_model_name = context.config_loader[\"parameters\"]['deploy_guardrail']['registered_model_name']\n",
    "grader_registered_model_name = context.config_loader[\"parameters\"]['deploy_grader']['registered_model_name']\n",
    "\n",
    "#remove rag, grade, grading registered models\n",
    "for (registered_model_name, registered_model_version_id) in [(rag_registered_model_name, deploy_rag_registered_version_id),\n",
    "                                                              (guardrail_registered_model_name,  deploy_guardrail_registered_version_id),\n",
    "                                                              (grader_registered_model_name, deploy_grader_registered_version_id)]:\n",
    "    try:\n",
    "        for model in dr.RegisteredModel.list():  # type: ignore\n",
    "            if model.name == registered_model_name:\n",
    "                for model_version in model.list_versions():\n",
    "                    #check if version matches catalog\n",
    "                    if model_version.id ==  registered_model_version_id:\n",
    "                        url = posixpath.join(endpoint, f\"registeredModels/{model.id}/\")\n",
    "                        dr.Client(endpoint=endpoint, token=api_token).delete(url)\n",
    "                        print(f\"deleted registered model {registered_model_name} with id: {model.id}\")\n",
    "                break\n",
    "    except Exception as error:\n",
    "        print(error)"
   ]
  },
  {
   "cell_type": "code",
   "execution_count": 8,
   "id": "003781b8",
   "metadata": {},
   "outputs": [
    {
     "data": {
      "text/html": [
       "<pre style=\"white-space:pre;overflow-x:auto;line-height:normal;font-family:Menlo,'DejaVu Sans Mono',consolas,'Courier New',monospace\"><span style=\"color: #7fbfbf; text-decoration-color: #7fbfbf\">[03/25/24 20:52:27] </span><span style=\"color: #000080; text-decoration-color: #000080\">INFO    </span> Loading data from <span style=\"color: #ff8700; text-decoration-color: #ff8700\">deploy_rag.custom_model_id</span> <span style=\"font-weight: bold\">(</span>TextDataset<span style=\"font-weight: bold\">)</span><span style=\"color: #808000; text-decoration-color: #808000\">...</span>      <a href=\"file:///home/joao/.virtualenvs/kedro/lib/python3.10/site-packages/kedro/io/data_catalog.py\" target=\"_blank\"><span style=\"color: #7f7f7f; text-decoration-color: #7f7f7f\">data_catalog.py</span></a><span style=\"color: #7f7f7f; text-decoration-color: #7f7f7f\">:</span><a href=\"file:///home/joao/.virtualenvs/kedro/lib/python3.10/site-packages/kedro/io/data_catalog.py#483\" target=\"_blank\"><span style=\"color: #7f7f7f; text-decoration-color: #7f7f7f\">483</span></a>\n",
       "</pre>\n"
      ],
      "text/plain": [
       "\u001b[2;36m[03/25/24 20:52:27]\u001b[0m\u001b[2;36m \u001b[0m\u001b[34mINFO    \u001b[0m Loading data from \u001b[38;5;208mdeploy_rag.custom_model_id\u001b[0m \u001b[1m(\u001b[0mTextDataset\u001b[1m)\u001b[0m\u001b[33m...\u001b[0m      \u001b]8;id=768016;file:///home/joao/.virtualenvs/kedro/lib/python3.10/site-packages/kedro/io/data_catalog.py\u001b\\\u001b[2mdata_catalog.py\u001b[0m\u001b]8;;\u001b\\\u001b[2m:\u001b[0m\u001b]8;id=865036;file:///home/joao/.virtualenvs/kedro/lib/python3.10/site-packages/kedro/io/data_catalog.py#483\u001b\\\u001b[2m483\u001b[0m\u001b]8;;\u001b\\\n"
      ]
     },
     "metadata": {},
     "output_type": "display_data"
    },
    {
     "data": {
      "text/html": [
       "<pre style=\"white-space:pre;overflow-x:auto;line-height:normal;font-family:Menlo,'DejaVu Sans Mono',consolas,'Courier New',monospace\"><span style=\"color: #7fbfbf; text-decoration-color: #7fbfbf\">                    </span><span style=\"color: #000080; text-decoration-color: #000080\">INFO    </span> Loading data from <span style=\"color: #ff8700; text-decoration-color: #ff8700\">deploy_guardrail.custom_model_id</span>                 <a href=\"file:///home/joao/.virtualenvs/kedro/lib/python3.10/site-packages/kedro/io/data_catalog.py\" target=\"_blank\"><span style=\"color: #7f7f7f; text-decoration-color: #7f7f7f\">data_catalog.py</span></a><span style=\"color: #7f7f7f; text-decoration-color: #7f7f7f\">:</span><a href=\"file:///home/joao/.virtualenvs/kedro/lib/python3.10/site-packages/kedro/io/data_catalog.py#483\" target=\"_blank\"><span style=\"color: #7f7f7f; text-decoration-color: #7f7f7f\">483</span></a>\n",
       "<span style=\"color: #7fbfbf; text-decoration-color: #7fbfbf\">                    </span>         <span style=\"font-weight: bold\">(</span>TextDataset<span style=\"font-weight: bold\">)</span><span style=\"color: #808000; text-decoration-color: #808000\">...</span>                                                   <span style=\"color: #7f7f7f; text-decoration-color: #7f7f7f\">                   </span>\n",
       "</pre>\n"
      ],
      "text/plain": [
       "\u001b[2;36m                   \u001b[0m\u001b[2;36m \u001b[0m\u001b[34mINFO    \u001b[0m Loading data from \u001b[38;5;208mdeploy_guardrail.custom_model_id\u001b[0m                 \u001b]8;id=120667;file:///home/joao/.virtualenvs/kedro/lib/python3.10/site-packages/kedro/io/data_catalog.py\u001b\\\u001b[2mdata_catalog.py\u001b[0m\u001b]8;;\u001b\\\u001b[2m:\u001b[0m\u001b]8;id=675616;file:///home/joao/.virtualenvs/kedro/lib/python3.10/site-packages/kedro/io/data_catalog.py#483\u001b\\\u001b[2m483\u001b[0m\u001b]8;;\u001b\\\n",
       "\u001b[2;36m                    \u001b[0m         \u001b[1m(\u001b[0mTextDataset\u001b[1m)\u001b[0m\u001b[33m...\u001b[0m                                                   \u001b[2m                   \u001b[0m\n"
      ]
     },
     "metadata": {},
     "output_type": "display_data"
    },
    {
     "data": {
      "text/html": [
       "<pre style=\"white-space:pre;overflow-x:auto;line-height:normal;font-family:Menlo,'DejaVu Sans Mono',consolas,'Courier New',monospace\"><span style=\"color: #7fbfbf; text-decoration-color: #7fbfbf\">                    </span><span style=\"color: #000080; text-decoration-color: #000080\">INFO    </span> Loading data from <span style=\"color: #ff8700; text-decoration-color: #ff8700\">deploy_grader.custom_model_id</span> <span style=\"font-weight: bold\">(</span>TextDataset<span style=\"font-weight: bold\">)</span><span style=\"color: #808000; text-decoration-color: #808000\">...</span>   <a href=\"file:///home/joao/.virtualenvs/kedro/lib/python3.10/site-packages/kedro/io/data_catalog.py\" target=\"_blank\"><span style=\"color: #7f7f7f; text-decoration-color: #7f7f7f\">data_catalog.py</span></a><span style=\"color: #7f7f7f; text-decoration-color: #7f7f7f\">:</span><a href=\"file:///home/joao/.virtualenvs/kedro/lib/python3.10/site-packages/kedro/io/data_catalog.py#483\" target=\"_blank\"><span style=\"color: #7f7f7f; text-decoration-color: #7f7f7f\">483</span></a>\n",
       "</pre>\n"
      ],
      "text/plain": [
       "\u001b[2;36m                   \u001b[0m\u001b[2;36m \u001b[0m\u001b[34mINFO    \u001b[0m Loading data from \u001b[38;5;208mdeploy_grader.custom_model_id\u001b[0m \u001b[1m(\u001b[0mTextDataset\u001b[1m)\u001b[0m\u001b[33m...\u001b[0m   \u001b]8;id=804276;file:///home/joao/.virtualenvs/kedro/lib/python3.10/site-packages/kedro/io/data_catalog.py\u001b\\\u001b[2mdata_catalog.py\u001b[0m\u001b]8;;\u001b\\\u001b[2m:\u001b[0m\u001b]8;id=790532;file:///home/joao/.virtualenvs/kedro/lib/python3.10/site-packages/kedro/io/data_catalog.py#483\u001b\\\u001b[2m483\u001b[0m\u001b]8;;\u001b\\\n"
      ]
     },
     "metadata": {},
     "output_type": "display_data"
    },
    {
     "name": "stdout",
     "output_type": "stream",
     "text": [
      "deleted custom model with id: 6601d6dee0d124bf5acac1a4\n",
      "deleted custom model with id: 6601d6dc7ececa4ec99064a0\n",
      "deleted custom model with id: 6601d6daf0df0ae499cac1a4\n"
     ]
    }
   ],
   "source": [
    "#custom models ids\n",
    "deploy_rag_custom_model_id = catalog.load('deploy_rag.custom_model_id')\n",
    "deploy_guardrail_custom_model_id = catalog.load('deploy_guardrail.custom_model_id')\n",
    "deploy_grader_custom_model_id = catalog.load('deploy_grader.custom_model_id')\n",
    "\n",
    "#remove rag, grade, grading custom models\n",
    "for custom_model_id in [deploy_rag_custom_model_id,\n",
    "                        deploy_guardrail_custom_model_id,\n",
    "                        deploy_grader_custom_model_id]:\n",
    "    try:\n",
    "        dr.CustomInferenceModel.get(custom_model_id).delete()\n",
    "        print(f\"deleted custom model with id: {custom_model_id}\")\n",
    "    except Exception as error:\n",
    "        print(error)"
   ]
  }
 ],
 "metadata": {
  "kernelspec": {
   "display_name": "kedro",
   "language": "python",
   "name": "kedro"
  },
  "language_info": {
   "codemirror_mode": {
    "name": "ipython",
    "version": 3
   },
   "file_extension": ".py",
   "mimetype": "text/x-python",
   "name": "python",
   "nbconvert_exporter": "python",
   "pygments_lexer": "ipython3",
   "version": "3.10.12"
  }
 },
 "nbformat": 4,
 "nbformat_minor": 5
}